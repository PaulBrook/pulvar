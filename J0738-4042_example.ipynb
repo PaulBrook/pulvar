{
 "cells": [
  {
   "cell_type": "markdown",
   "metadata": {},
   "source": [
    "## PULVAR NOTEBOOK\n",
    "### FOR PULSAR VARIABILITY ANALYSIS "
   ]
  },
  {
   "cell_type": "code",
   "execution_count": null,
   "metadata": {},
   "outputs": [],
   "source": [
    "import numpy as np\n",
    "import math\n",
    "import matplotlib.pyplot as plt\n",
    "import sys\n",
    "import pulvar_functions as pvf\n",
    "import os\n",
    "from matplotlib.patches import Rectangle\n",
    "from tqdm import tqdm_notebook\n",
    "from matplotlib import gridspec\n",
    "import george\n",
    "from george import kernels\n",
    "from scipy.optimize import minimize\n",
    "import scipy.signal as scisig\n",
    "import datetime"
   ]
  },
  {
   "cell_type": "markdown",
   "metadata": {},
   "source": [
    "### ENTER PATH FOR THE INPUT TEXT FILE:"
   ]
  },
  {
   "cell_type": "code",
   "execution_count": null,
   "metadata": {},
   "outputs": [],
   "source": [
    "matrix_file = 'J0738-4042_PARKES_1400.txt'\n",
    "\n",
    "rawdata = np.loadtxt(matrix_file)\n",
    "\n",
    "print('This data set contains',rawdata.shape[1],'pulsar observations, each with',rawdata.shape[0]-1,'phase bins.')"
   ]
  },
  {
   "cell_type": "markdown",
   "metadata": {},
   "source": [
    "### ENTER NAME OF DIRECTORY IN WHICH THINGS WILL BE SAVED:"
   ]
  },
  {
   "cell_type": "code",
   "execution_count": null,
   "metadata": {},
   "outputs": [],
   "source": [
    "directory_name = './J0738-4042_1400MHZ'\n",
    "\n",
    "if not (os.path.exists('./{0}/'.format(directory_name))):\n",
    "    os.mkdir('./{0}/'.format(directory_name))"
   ]
  },
  {
   "cell_type": "markdown",
   "metadata": {},
   "source": [
    "### (OPTIONAL) RUN THIS CELL IF YOU WOULD LIKE TO PROVIDE A LIST OF DAYS ON WHICH OBSERVATIONS SHOULD BE EXCLUDED FROM THE ANALYSIS:"
   ]
  },
  {
   "cell_type": "code",
   "execution_count": null,
   "metadata": {},
   "outputs": [],
   "source": [
    "# LIST OF MJDS TO BE REMOVED:\n",
    "bad_mjds = [53040, 53118, 53174, 53175, 53193, 53249, 53667, 53971, 57915, 58608, 58645]\n",
    "\n",
    "bad_mjds_index = []\n",
    "bad_mjds = np.atleast_1d(bad_mjds)\n",
    "for b in bad_mjds:\n",
    "    for i in range(rawdata.shape[1]):\n",
    "        if abs(rawdata[rawdata.shape[0]-1,i]-b) < 1.0:\n",
    "            bad_mjds_index.append(i)\n",
    "\n",
    "raw_before = rawdata.shape[1]\n",
    "rawdata = np.delete(rawdata,bad_mjds_index,1)\n",
    "raw_after = rawdata.shape[1]\n",
    "\n",
    "print(raw_before-raw_after,'observations were manually removed')"
   ]
  },
  {
   "cell_type": "markdown",
   "metadata": {},
   "source": [
    "### SPLIT THE DATA INTO PROFILES AND MJDS:"
   ]
  },
  {
   "cell_type": "code",
   "execution_count": null,
   "metadata": {},
   "outputs": [],
   "source": [
    "mjd = rawdata[rawdata.shape[0]-1,:]\n",
    "#Tobs = rawdata[rawdata.shape[0]-2,:]\n",
    "data = rawdata[0:rawdata.shape[0]-1,:]\n",
    "bins = data.shape[0]"
   ]
  },
  {
   "cell_type": "markdown",
   "metadata": {},
   "source": [
    "### (OPTIONAL) RUN CELL TO SAVE PLOTS OF RAW PROFILES:"
   ]
  },
  {
   "cell_type": "code",
   "execution_count": null,
   "metadata": {},
   "outputs": [],
   "source": [
    "pvf.save_profiles(directory_name,data,mjd,data.shape[0],'raw_profile_plots',no_y_lim=True)"
   ]
  },
  {
   "cell_type": "markdown",
   "metadata": {},
   "source": [
    "### REMOVE PROFILES WITH NOISE ABOVE A CERTAIN THRESHOLD:"
   ]
  },
  {
   "cell_type": "code",
   "execution_count": null,
   "metadata": {},
   "outputs": [],
   "source": [
    "noise_threshold = 2\n",
    "# (An observation is removed if the standard deviation of the off-pulse region is more than a factor of <noise_threshold> larger than the median value taken from the off-pulse regions across all observations)\n",
    "\n",
    "baselineremoved, removedprofiles, rmsperepoch, outlierlist, inlierlist = pvf.removebaseline(data, noise_threshold)\n",
    "mjd_remain = np.delete(mjd,outlierlist)\n",
    "mjdremoved = np.delete(mjd,inlierlist)"
   ]
  },
  {
   "cell_type": "markdown",
   "metadata": {},
   "source": [
    "### (OPTIONAL) SAVE PLOTS OF PROFILES THAT WERE REMOVED FOR BEING TOO NOISY:"
   ]
  },
  {
   "cell_type": "code",
   "execution_count": null,
   "metadata": {},
   "outputs": [],
   "source": [
    "try:\n",
    "    pvf.save_profiles(directory_name,removedprofiles,mjdremoved,data.shape[0],'noisy_profile_plots')\n",
    "except:\n",
    "    print('Noisy profile removal was not performed. No plots to save.')"
   ]
  },
  {
   "cell_type": "markdown",
   "metadata": {},
   "source": [
    "### VIEW THE BRIGHTEST PROFILE IN THE DATA SET:"
   ]
  },
  {
   "cell_type": "code",
   "execution_count": null,
   "metadata": {},
   "outputs": [],
   "source": [
    "brightest_profile = pvf.findbrightestprofile(baselineremoved,rmsperepoch)\n",
    "pvf.plot_profile(data[:,brightest_profile]);"
   ]
  },
  {
   "cell_type": "markdown",
   "metadata": {},
   "source": [
    "### IF S/N IS TOO LOW, RESAMPLE THE DATA TO INCREASE IT:"
   ]
  },
  {
   "cell_type": "code",
   "execution_count": null,
   "metadata": {},
   "outputs": [],
   "source": [
    "# SET THE THRESHOLD:\n",
    "s_n_threshold = 2\n",
    "\n",
    "brightprofpeak = np.max(baselineremoved[:,brightest_profile])\n",
    "brightprofrms = rmsperepoch[brightest_profile]\n",
    "\n",
    "if brightprofpeak/brightprofrms < s_n_threshold :\n",
    "    print('Resampling...')\n",
    "    resampled = scisig.resample(baselineremoved,int(bins/8))\n",
    "else:\n",
    "    print('Resampling not necessary.')\n",
    "    resampled = baselineremoved\n",
    "baselineremoved = resampled"
   ]
  },
  {
   "cell_type": "markdown",
   "metadata": {},
   "source": [
    "### CROSS CORRELATE THE PROFILES TO ALIGN THEM AND ALSO NORMALISE PEAKS TO 1.0:"
   ]
  },
  {
   "cell_type": "code",
   "execution_count": null,
   "metadata": {},
   "outputs": [],
   "source": [
    "aligned_data, template = pvf.aligndata(baselineremoved, brightest_profile, directory_name)\n",
    "originaltemplate = np.copy(template)\n",
    "originaltemplate_normalised = originaltemplate/(np.max(originaltemplate))"
   ]
  },
  {
   "cell_type": "markdown",
   "metadata": {},
   "source": [
    "### PLOT CURRENT MEDIAN PROFILE (PEAK POSITIONED AT PERIOD / 4):"
   ]
  },
  {
   "cell_type": "code",
   "execution_count": null,
   "metadata": {},
   "outputs": [],
   "source": [
    "ax = pvf.plot_profile(originaltemplate_normalised)\n",
    "ax.set_ylabel('Normalised Flux Density');"
   ]
  },
  {
   "cell_type": "markdown",
   "metadata": {},
   "source": [
    "### CHOOSE THE 'BEGIN' AND 'END' BINS FOR YOUR PULSE WINDOW BASED ON THE ABOVE PROFILE:"
   ]
  },
  {
   "cell_type": "code",
   "execution_count": null,
   "metadata": {},
   "outputs": [],
   "source": [
    "window_begin = 140\n",
    "window_end = 340"
   ]
  },
  {
   "cell_type": "markdown",
   "metadata": {},
   "source": [
    "### CHOOSE THE WINDOWS FOR ANY OTHER PULSE REGIONS ([BEGIN_1,END_1,BEGIN_2,END_2,...]):"
   ]
  },
  {
   "cell_type": "code",
   "execution_count": null,
   "metadata": {},
   "outputs": [],
   "source": [
    "other_pulse_regions = []"
   ]
  },
  {
   "cell_type": "markdown",
   "metadata": {},
   "source": [
    "### PLOT TO SEE IF CHOSEN WINDOWS ARE SATISFACTORY (IF NOT EDIT CELLS ABOVE):"
   ]
  },
  {
   "cell_type": "code",
   "execution_count": null,
   "metadata": {},
   "outputs": [],
   "source": [
    "ax = pvf.plot_profile(originaltemplate_normalised)\n",
    "plt.vlines(window_begin,-0.1,1.1,linestyles='dashed',color='k')\n",
    "plt.vlines(window_end,-0.1,1.1,linestyles='dashed',color='k')\n",
    "ax.add_patch(Rectangle((window_begin,-0.1),(window_end-window_begin),1.2,facecolor='green',alpha = 0.1, zorder = 39))\n",
    "for r in range(int(len(other_pulse_regions)/2)):\n",
    "    plt.vlines(other_pulse_regions[2*r],-0.1,1.1,linestyles='dashed')\n",
    "    plt.vlines(other_pulse_regions[2*r+1],-0.1,1.1,linestyles='dashed')\n",
    "    ax.add_patch(Rectangle((other_pulse_regions[2*r],-0.1),(other_pulse_regions[2*r+1]-other_pulse_regions[2*r]),1.2,facecolor='darkorange',alpha = 0.1, zorder = 39))\n",
    "\n",
    "ax.set_ylabel('Normalised Flux Density');"
   ]
  },
  {
   "cell_type": "markdown",
   "metadata": {},
   "source": [
    "### RE-ALIGN AND RE-NORMALISE PROFILES BY MAXIMISING NUMBER OF STABLE BINS:"
   ]
  },
  {
   "cell_type": "code",
   "execution_count": null,
   "metadata": {},
   "outputs": [],
   "source": [
    "# TAKES A FEW SECONDS PER OBSERVATION\n",
    "\n",
    "aligned_data_norm, aligned_data = pvf.smart_align(originaltemplate_normalised,baselineremoved[:,:])"
   ]
  },
  {
   "cell_type": "markdown",
   "metadata": {},
   "source": [
    "### CALCULATE THE STD ACROSS ALL PROFILES IN THE OFF-PULSE (NON-COLOURED) REGIONS IN PLOT ABOVE:"
   ]
  },
  {
   "cell_type": "code",
   "execution_count": null,
   "metadata": {},
   "outputs": [],
   "source": [
    "on_pulse_bins = []\n",
    "\n",
    "for a in range(window_end-window_begin+1):\n",
    "    on_pulse_bins.append(window_begin+a)\n",
    "for b in range(int(len(other_pulse_regions)/2)):\n",
    "    for c in range(other_pulse_regions[2*b+1]-other_pulse_regions[2*b]+1):\n",
    "        on_pulse_bins.append(other_pulse_regions[2*b]+c)\n",
    "\n",
    "off_pulse_data = np.delete(aligned_data_norm,on_pulse_bins,0)\n",
    "\n",
    "rms = np.std(off_pulse_data)"
   ]
  },
  {
   "cell_type": "markdown",
   "metadata": {},
   "source": [
    "### VIEW ALL ALIGNED AND NORMALISED PROFILES IN PULSE WINDOW (WITH RED MEDIAN PROFILE):"
   ]
  },
  {
   "cell_type": "code",
   "execution_count": null,
   "metadata": {},
   "outputs": [],
   "source": [
    "post_bin_match_median = np.zeros((aligned_data_norm.shape[0]))\n",
    "for b in range(post_bin_match_median.shape[0]):\n",
    "    post_bin_match_median[b] = np.median(aligned_data_norm[b,:])\n",
    "\n",
    "ax = pvf.plot_profile(aligned_data_norm[window_begin:window_end,:])\n",
    "ax.plot(post_bin_match_median[window_begin:window_end],'r--',linewidth=4)\n",
    "ax.set_ylabel('Normalised Flux Density');"
   ]
  },
  {
   "cell_type": "markdown",
   "metadata": {},
   "source": [
    "### (OPTIONAL) SAVE PLOTS OF ALL SURVIVING INDIVIDUAL PROFILES:"
   ]
  },
  {
   "cell_type": "code",
   "execution_count": null,
   "metadata": {},
   "outputs": [],
   "source": [
    "pvf.save_profiles(directory_name,aligned_data_norm[window_begin:window_end,:],mjd_remain,data.shape[0],'pulse_window_plots','Normalised Flux Density',template=post_bin_match_median[window_begin:window_end])"
   ]
  },
  {
   "cell_type": "markdown",
   "metadata": {},
   "source": [
    "### FIT A GAUSSIAN PROCESS MODEL TO EACH PHASE BIN IN THE PULSE WINDOW:"
   ]
  },
  {
   "cell_type": "markdown",
   "metadata": {},
   "source": [
    "#### SELECT A GAUSSIAN PROCESS LENGTH SCALE IN DAYS:"
   ]
  },
  {
   "cell_type": "code",
   "execution_count": null,
   "metadata": {},
   "outputs": [],
   "source": [
    "gp_len_scale = 110"
   ]
  },
  {
   "cell_type": "markdown",
   "metadata": {},
   "source": [
    "#### FIT THE MODEL:"
   ]
  },
  {
   "cell_type": "code",
   "execution_count": null,
   "metadata": {
    "scrolled": true
   },
   "outputs": [],
   "source": [
    "gp_data = np.zeros((window_end-window_begin,int(mjd_remain[-1])-int(mjd_remain[0]))) \n",
    "gp_var = np.zeros((window_end-window_begin,int(mjd_remain[-1])-int(mjd_remain[0])))\n",
    "all_profile_residuals = np.zeros((window_end-window_begin,aligned_data_norm.shape[1]))\n",
    "gp_mjds = np.zeros((int(mjd_remain[-1])-int(mjd_remain[0])))\n",
    "x_pred = np.arange(int(mjd_remain[0]), int(mjd_remain[-1]),1)\n",
    "all_noise = np.zeros((window_end-window_begin,aligned_data_norm.shape[1]))\n",
    "\n",
    "for g in tqdm_notebook(range(window_end-window_begin)):\n",
    "    y_profile_residuals = (aligned_data_norm[window_begin+g,:] - post_bin_match_median[window_begin+g])/rms\n",
    "    y_noise = np.std(y_profile_residuals)* np.ones_like(mjd_remain)    \n",
    "    kernel = np.var(y_profile_residuals) * kernels.ExpSquaredKernel(gp_len_scale)\n",
    "    gp = george.GP(kernel)\n",
    "    gp.compute(mjd_remain, y_noise)\n",
    "    pred, pred_var = gp.predict(y_profile_residuals, x_pred, return_var=True)\n",
    "\n",
    "    def neg_ln_like(p):\n",
    "        gp.set_parameter_vector(p)\n",
    "        return -gp.log_likelihood(y_profile_residuals)\n",
    "\n",
    "    def grad_neg_ln_like(p):\n",
    "        gp.set_parameter_vector(p)\n",
    "        return -gp.grad_log_likelihood(y_profile_residuals)\n",
    "\n",
    "    result = minimize(neg_ln_like, gp.get_parameter_vector(), jac=grad_neg_ln_like)\n",
    "    gp.set_parameter_vector(result.x)\n",
    "    \n",
    "    pred, pred_var = gp.predict(y_profile_residuals, x_pred, return_var=True)\n",
    "    \n",
    "    \n",
    "    gp_data[g,:] = pred \n",
    "    gp_var[g,:] = pred_var\n",
    "    all_profile_residuals[g,:] = y_profile_residuals\n",
    "    all_noise[g,:] = y_noise\n",
    "\n",
    "gp_mjds[:] = x_pred"
   ]
  },
  {
   "cell_type": "markdown",
   "metadata": {},
   "source": [
    "### (OPTIONAL) VIEW EACH THE GAUSSIAN PROCESS MODELS:"
   ]
  },
  {
   "cell_type": "code",
   "execution_count": null,
   "metadata": {},
   "outputs": [],
   "source": [
    "for i in tqdm_notebook(range(gp_data.shape[0])):\n",
    "    print('PHASE BIN:',i)\n",
    "    fig = plt.figure(figsize=(15,4))\n",
    "    gs = gridspec.GridSpec(2,1)\n",
    "    ax1 = fig.add_subplot(gs[0, 0])\n",
    "    ax1.plot(post_bin_match_median[window_begin:window_end],'k')\n",
    "    plt.vlines(i,-np.max(post_bin_match_median[window_begin:window_end])*0.05,np.max(post_bin_match_median[window_begin:window_end])*1.05,'r',linewidth=4,alpha=0.2)\n",
    "    ax1.set_xlim(0-1,post_bin_match_median[window_begin:window_end].shape[0])\n",
    "    ax1.set_ylim(-np.max(post_bin_match_median[window_begin:window_end])*0.05,np.max(post_bin_match_median[window_begin:window_end])*1.05)\n",
    "    plt.tick_params(axis='y', which='both', left=True, labelleft=False)\n",
    "    ax1.tick_params(axis='x', which='both', bottom=False, labelbottom=False)\n",
    "    plt.grid()\n",
    "    \n",
    "    ax2 = fig.add_subplot(gs[1, 0])\n",
    "    fig.subplots_adjust(hspace=0.0)\n",
    "    ax2.plot(gp_mjds[:],gp_data[i,:],'k')\n",
    "    ax2.errorbar(mjd_remain, all_profile_residuals[i,:], yerr=all_noise[i,:], fmt=\".k\", capsize=0);\n",
    "    ax2.fill_between(gp_mjds[:], gp_data[i,:] - np.sqrt(gp_var[i,:]), gp_data[i,:] + np.sqrt(gp_var[i,:]),color=\"k\", alpha=0.2)\n",
    "    ax2.set_xlim(gp_mjds[0],gp_mjds[-1])\n",
    "    plot_y_min = np.minimum(np.min(gp_data[:,:] - np.sqrt(gp_var[:,:])),np.min(all_profile_residuals[:,:]-all_noise[:,:]))\n",
    "    plot_y_max = np.maximum(np.max(gp_data[:,:] + np.sqrt(gp_var[:,:])), np.max(all_profile_residuals[:,:]+all_noise[:,:]))\n",
    "    ax2.set_ylim(plot_y_min,plot_y_max)\n",
    "    ax1.tick_params(axis='x', size=20)\n",
    "    plt.grid()\n",
    "    plt.show()\n",
    "    plt.close(fig)"
   ]
  },
  {
   "cell_type": "markdown",
   "metadata": {},
   "source": [
    "### CALCULATE PEAK FLUX DENSITY (NON-NORMALISED) ACROSS THE DATA SET:"
   ]
  },
  {
   "cell_type": "code",
   "execution_count": null,
   "metadata": {},
   "outputs": [],
   "source": [
    "peak_flux_den = np.zeros((aligned_data.shape[1]))\n",
    "\n",
    "for ad in range(aligned_data.shape[1]):\n",
    "    peak_flux_den[ad] = np.max(aligned_data[:,ad])\n",
    "\n",
    "peak_flux_den = peak_flux_den"
   ]
  },
  {
   "cell_type": "markdown",
   "metadata": {},
   "source": [
    "### PLOT PULSAR VARIABILITY MAP:"
   ]
  },
  {
   "cell_type": "code",
   "execution_count": null,
   "metadata": {},
   "outputs": [],
   "source": [
    "pvf.variability_map_plot(mjd_remain,gp_data,peak_flux_den,post_bin_match_median,window_begin, window_end,data.shape[0]) \n",
    "print('- Date of observations are shown on the variability map as verticle lines.\\n')\n",
    "print('- The units of the variability map is:\\n  The standard deviation of all off-pulse phase bins across all observations kept in the analysis.')"
   ]
  },
  {
   "cell_type": "code",
   "execution_count": null,
   "metadata": {},
   "outputs": [],
   "source": []
  }
 ],
 "metadata": {
  "kernelspec": {
   "display_name": "Python 3",
   "language": "python",
   "name": "python3"
  },
  "language_info": {
   "codemirror_mode": {
    "name": "ipython",
    "version": 3
   },
   "file_extension": ".py",
   "mimetype": "text/x-python",
   "name": "python",
   "nbconvert_exporter": "python",
   "pygments_lexer": "ipython3",
   "version": "3.9.9"
  }
 },
 "nbformat": 4,
 "nbformat_minor": 2
}
